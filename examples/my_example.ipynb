{
 "cells": [
  {
   "cell_type": "code",
   "execution_count": 1,
   "id": "d0916b30-680f-4b69-ad7a-eab853ee3dd5",
   "metadata": {},
   "outputs": [],
   "source": [
    "from pantograph import Server\n",
    "from pantograph.expr import TacticHave, TacticCalc, TacticExpr"
   ]
  },
  {
   "cell_type": "code",
   "execution_count": 2,
   "id": "5522daba-1883-4b73-8c2b-79cd94b8756a",
   "metadata": {},
   "outputs": [],
   "source": [
    "server = Server()\n",
    "state0 = server.goal_start(\"forall (p q: Prop), Or p q -> Or q p\")"
   ]
  },
  {
   "cell_type": "code",
   "execution_count": 3,
   "id": "0d32c50a-8815-4299-9d6a-ed9d5cb070ad",
   "metadata": {},
   "outputs": [
    {
     "name": "stdout",
     "output_type": "stream",
     "text": [
      "\n",
      "⊢ forall (p q: Prop), Or p q -> Or q p\n"
     ]
    }
   ],
   "source": [
    "print(state0)"
   ]
  },
  {
   "cell_type": "code",
   "execution_count": 4,
   "id": "51ee20ba-8de3-48f1-962e-f7652b97fba6",
   "metadata": {},
   "outputs": [
    {
     "data": {
      "text/plain": [
       "False"
      ]
     },
     "execution_count": 4,
     "metadata": {},
     "output_type": "execute_result"
    }
   ],
   "source": [
    "state0.is_solved"
   ]
  },
  {
   "cell_type": "code",
   "execution_count": 5,
   "id": "b6b3a086-2097-462f-ae96-f47ff789b7c1",
   "metadata": {},
   "outputs": [
    {
     "data": {
      "text/plain": [
       "[Goal(variables=[], target='forall (p q: Prop), Or p q -> Or q p', sibling_dep=[], name=None, is_conversion=False)]"
      ]
     },
     "execution_count": 5,
     "metadata": {},
     "output_type": "execute_result"
    }
   ],
   "source": [
    "state0.goals"
   ]
  },
  {
   "cell_type": "code",
   "execution_count": 6,
   "id": "1bace6fe-b6e5-469a-a872-2aa4acad16c6",
   "metadata": {},
   "outputs": [
    {
     "name": "stdout",
     "output_type": "stream",
     "text": [
      "a : Prop\n",
      "⊢ ∀ (q : Prop), a ∨ q → q ∨ a\n"
     ]
    }
   ],
   "source": [
    "state1 = server.goal_tactic(state0, goal_id=0, tactic=\"intro a\")\n",
    "print(state1)"
   ]
  },
  {
   "cell_type": "code",
   "execution_count": 10,
   "id": "8fcf6ca3-f7f0-43af-afd9-af9159af7497",
   "metadata": {},
   "outputs": [
    {
     "data": {
      "text/plain": [
       "'a : Prop\\n⊢ ∀ (q : Prop), a ∨ q → q ∨ a'"
      ]
     },
     "execution_count": 10,
     "metadata": {},
     "output_type": "execute_result"
    }
   ],
   "source": [
    "str(state1.goals[0])"
   ]
  },
  {
   "cell_type": "code",
   "execution_count": null,
   "id": "7a77c112-8490-4901-972a-ee9862474bf0",
   "metadata": {},
   "outputs": [],
   "source": []
  }
 ],
 "metadata": {
  "kernelspec": {
   "display_name": "Python 3 (ipykernel)",
   "language": "python",
   "name": "python3"
  },
  "language_info": {
   "codemirror_mode": {
    "name": "ipython",
    "version": 3
   },
   "file_extension": ".py",
   "mimetype": "text/x-python",
   "name": "python",
   "nbconvert_exporter": "python",
   "pygments_lexer": "ipython3",
   "version": "3.10.12"
  }
 },
 "nbformat": 4,
 "nbformat_minor": 5
}
